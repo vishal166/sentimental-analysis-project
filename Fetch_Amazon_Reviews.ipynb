{
 "cells": [
  {
   "cell_type": "code",
   "execution_count": 7,
   "id": "ea8eb9a2",
   "metadata": {},
   "outputs": [],
   "source": [
    "from bs4 import BeautifulSoup\n",
    "import urllib.request\n",
    "import requests\n",
    "import ssl\n",
    "import pandas as pd\n",
    "import spacy # language models\n",
    "import nltk"
   ]
  },
  {
   "cell_type": "code",
   "execution_count": 8,
   "id": "49c23b8d",
   "metadata": {},
   "outputs": [
    {
     "data": {
      "text/plain": [
       "'https://www.amazon.in/product-reviews/B017NPCSLI/ref=cm_cr_dp_d_show_all_btm?ie=UTF8&reviewerType=all_reviews&pageNumber='"
      ]
     },
     "execution_count": 8,
     "metadata": {},
     "output_type": "execute_result"
    }
   ],
   "source": [
    "pageNo = 1\n",
    "productUrlMain = \"https://www.amazon.in/product-reviews/B017NPCSLI/ref=cm_cr_dp_d_show_all_btm?ie=UTF8&reviewerType=all_reviews&pageNumber=\"\n",
    "productUrlMain"
   ]
  },
  {
   "cell_type": "code",
   "execution_count": 9,
   "id": "90d22fc7",
   "metadata": {},
   "outputs": [],
   "source": [
    "headers = {\n",
    "    'authority': 'www.amazon.com',\n",
    "    'pragma': 'no-cache',\n",
    "    'cache-control': 'no-cache',\n",
    "    'rtt': '50',\n",
    "    'downlink': '6.65',\n",
    "    'ect': '4g',\n",
    "    'upgrade-insecure-requests': '1',\n",
    "    'user-agent': 'Mozilla/5.0 (Macintosh; Intel Mac OS X 10_15_4) AppleWebKit/537.36 (KHTML, like Gecko) Chrome/86.0.4240.183 Safari/537.36',\n",
    "    'accept': 'text/html,application/xhtml+xml,application/xml;q=0.9,image/avif,image/webp,image/apng,*/*;q=0.8,application/signed-exchange;v=b3;q=0.9',\n",
    "    'sec-fetch-site': 'same-origin',\n",
    "    'sec-fetch-mode': 'navigate',\n",
    "    'sec-fetch-user': '?1',\n",
    "    'sec-fetch-dest': 'document',\n",
    "    'accept-language': 'en-US,en;q=0.9,la;q=0.8',\n",
    "    'cookie': 'ubid-main=133-9061931-0297943; sid=\"u39jVVzRWP15jSjEJsTdwA==|9ucGRH1SUgtb9e1e982gkm5/DayNcyYRTYXgNPZNa+g=\"; x-main=\"mE3y@VSbrs7MHrVVNnP1GN@GVZOaUJqe\"; at-main=Atza|IwEBIEv12ButU1VeMnrsclL17GM9BJ-80JPgG6TYbBZbAXZckOoe9wa7IyBNlbjEK-8F1AIpcMN4VR2tIGeWA0vdJ4PpvJA1R0N5Qn0zMsC4B6Y4megebgi3Jvq2BJ1g0jZRL9j9iYhPHFSdTUesgv9Q7p_PRb4dNNjnfnUGDeVxZHaCdWr-Iqatk6j8KcKYkusa9mKmGsz-2x_KF6xgU6Nx7QFE2yxAbegk8SnGIFiys8r99A; sess-at-main=\"NNbbNBJIIdO6ZUsf30V6vNV2aj2QETHGwAkzG3gX4ZE=\"; sst-main=Sst1|PQE1PjQcFvrt9Y3KNw8yA3eLEIpcrmUeovHZU8z9TftQ5cSjvbwa41EIkU6fNZnswQN4ItbnsOHE1dW6jzxtQ5W5bIW0nVNoX1SqhosV1IFUTgrfEJwe91NBnbMk4QMpfHZzjnBCtuP1l57JiSOetaBnrD4WZxe2IlQpTxhK57-mFsDAyjjPTpdWIsZFwK9KLFywkHaoJvVh6onccpXzMt_dEhnmwr3OeBWfFPagGojOYGpcnso44cDXzkLBMph3j_EnVk0ms-t-HRbuo64GAJ0O-Gc0e6o3D4JVCIy3pd9tERCyOn9iggvsICLQ5NDuq3IPop8KSk3xevMVZoEEucCO11ml7yWYg_Yo9wAlBGqRX9C4697s9qyM_llnAG0nn1KGTS-2BGyGl_7W47MtvpGTCtRdTp9jIJMFiwFPjUQ6h9to0Hligj45NYrF0p1JtCsH; i18n-prefs=USD; lc-main=en_US; aws-ubid-main=176-3363682-5411304; aws-session-id=140-0883594-3508442; aws-session-id-time=2232452694l; aws-session-token=\"4AcXH13Lb7gLaLAbVWxzhrnUWw5VZWqZi720/Dto7jgpDRcELFSp5rdL/70JOV/CzC3Q7NX5fwXr1hOyO1SGinrTZ2/mJwX9JI22zhbAj64paG31aDmWkELeUqOO9jxn87nBCHKuubVjDeLMfQoBykloAFSaSt6E/K+EiIG2dMyk5aC6G1Icjvrl1bdKmSGt3a+v4I/vPmozdi8jzhcihQnIA5aY3o5i/8p+kzEfCSQ=\"; sess-aws-at-main=\"OAo44oXc4/XY6EgTI5DzZjccXmr3Pf10LEqvTiATPBk=\"; regStatus=registered; aws_lang=en; s_fid=54929DF7E2EC5594-1DEC0D72EFDC6854; s_vn=1633268724773%26vn%3D1; s_invisit=true; s_cc=true; aws-target-visitor-id=1601732725193-893467; aws-target-data=%7B%22support%22%3A%221%22%7D; aws-userInfo=%7B%22arn%22%3A%22arn%3Aaws%3Aiam%3A%3A231071709544%3Aroot%22%2C%22alias%22%3A%22%22%2C%22username%22%3A%22jeff%2520james%22%2C%22keybase%22%3A%22%22%2C%22issuer%22%3A%22https%3A%2F%2Fwww.amazon.com%2Fap%2Fsignin%22%2C%22signinType%22%3A%22PUBLIC%22%7D; skin=noskin; csd-key=eyJ2IjoxLCJraWQiOiIzZTQwMDciLCJrZXkiOiJFTGpoTmpBeGhmNjgvTGdKQVNuTDBUcWx0a2JYaHRQdkVLRTRienk0bmVUM2Jnd0pHTHVlUlBjYkxya0RQVVRWMlV1YWI5WWZBMkZXTG93c1BxUUNtM21BL2RCbitJVkVuSmhFZkRqY2JUWEQrTllWbGlQSkhDeU9QYkpKa0RkYmNQRWtvOXNZa0VzU3hOZXFEbkZkUkk4b3FzY0dNZUU3MWFEVHcrRlNFVCtZYmd3amc3V0YyNjBoK29qQ0p6cVhkRDJzUVJBeVFtNmJxZG1TdXkzS092YkRIM293amNseTZVa0tKeGYzLzE5enA4OG10VWM2UG53clVvelQxMzdSbVpkVnlsZisvbjdSTGI0WkUzbjMzWDlEL1lsbmxhK0duLytlaU9qTjMzQUd3NG1NRC9oOTc0dFlqdmFQWnJDT2xKTk1RNmFVY3FpTDhReWQ0TUxwVFE9PSJ9; session-id-apay=143-6467005-0669008; session-id-time=2082787201l; session-id=146-2689202-9572416; s_dslv_s=More%20than%2030%20days; s_depth=2; s_dslv=1606267728256; s_nr=1606267728265-Repeat; session-token=\"gg4ozkVpSmo/CMUdJGU4vWV1Ap01LEGeSpGlQkj7ZEa3VEBeb+7xCHNDf8DV2y2tr45chYDEFySwu8cJx7Y1FN6QdAhBjINCqmSudE2ms/C0+61bcVE1sGzdOXLfxh57MgpZuzU1Xi/z3o8TsWfewFly/Kl6Aq0tKSWEPXT08CejwjX16Neh+Q00ofyScckwc/Qv/Q0oYIUysh3th6kRYg==\"; csm-hit=tb:RP2649Z9F69V9KV5A8BV+sa-738Q8AECSK2TQNV33QMY-2WTAQEBB75E5T1SDK1R6|1606489267955&adb:adblk_yes&t:1606489267955',\n",
    "}\n",
    "resp=\"\"\n",
    "finalResp = \"\"\n",
    "for i in range(1,501):\n",
    "    productUrl = productUrlMain+str(i)\n",
    "    resp = requests.get(productUrl, headers=headers)\n",
    "    finalResp+=resp.text\n",
    "    resp = \"\""
   ]
  },
  {
   "cell_type": "code",
   "execution_count": 10,
   "id": "6ffcad7a",
   "metadata": {},
   "outputs": [],
   "source": [
    "def get_review_stars(soup_obj: BeautifulSoup) -> str:\n",
    "    try:\n",
    "        review_str = soup_obj.find('a', {\"class\": \"a-link-normal\"}).get_text()\n",
    "        review_str = review_str.lower()\n",
    "        review_str = review_str.replace(\" out of 5 stars\", \"\")\n",
    "        return review_str\n",
    "    except Exception as e:\n",
    "        return 'no_stars'\n",
    "        print(e)"
   ]
  },
  {
   "cell_type": "code",
   "execution_count": 11,
   "id": "690fad00",
   "metadata": {},
   "outputs": [],
   "source": [
    "def get_review_body(soup_obj: BeautifulSoup) -> str:\n",
    "    try:\n",
    "        review_body = soup_obj.find('span', \n",
    "            {\"class\": \"a-size-base review-text review-text-content\"}\n",
    "        ).get_text().strip()\n",
    "        return review_body\n",
    "    except Exception as e:\n",
    "        return 'no_body'\n",
    "        print(e)"
   ]
  },
  {
   "cell_type": "code",
   "execution_count": 12,
   "id": "aa6ffef1",
   "metadata": {},
   "outputs": [],
   "source": [
    "def get_review_components(soup_obj: BeautifulSoup) -> dict:\n",
    "    return {\n",
    "        'stars':get_review_stars(soup_obj) , \n",
    "        'body': get_review_body(soup_obj), \n",
    "        'date': get_review_date(soup_obj)\n",
    "    }"
   ]
  },
  {
   "cell_type": "code",
   "execution_count": 13,
   "id": "00019039",
   "metadata": {},
   "outputs": [],
   "source": [
    "def get_review_date(soup_obj: BeautifulSoup) -> str:\n",
    "    try:\n",
    "        review_date = soup_obj.find('span', \n",
    "            {\"class\": \"a-size-base a-color-secondary review-date\"}\n",
    "        ).get_text().strip()\n",
    "        review_date = review_date.replace(\"Reviewed in India on \", \"\")\n",
    "        return review_date\n",
    "    except Exception as e:\n",
    "        return 'no_date'\n",
    "        print(e)"
   ]
  },
  {
   "cell_type": "code",
   "execution_count": 14,
   "id": "5b5f4d85",
   "metadata": {},
   "outputs": [],
   "source": [
    "soup = BeautifulSoup(finalResp, \"html.parser\")\n",
    "reviews = soup.find_all(\"div\", {\"class\": \"a-section review aok-relative\"})"
   ]
  },
  {
   "cell_type": "code",
   "execution_count": 15,
   "id": "a83c2a1f",
   "metadata": {},
   "outputs": [],
   "source": [
    "records = [get_review_components(rev) for rev in reviews]\n",
    "df = pd.DataFrame(records)\n",
    "df.to_csv('data/review_guitar.csv')"
   ]
  }
 ],
 "metadata": {
  "kernelspec": {
   "display_name": "Python 3",
   "language": "python",
   "name": "python3"
  },
  "language_info": {
   "codemirror_mode": {
    "name": "ipython",
    "version": 3
   },
   "file_extension": ".py",
   "mimetype": "text/x-python",
   "name": "python",
   "nbconvert_exporter": "python",
   "pygments_lexer": "ipython3",
   "version": "3.8.8"
  }
 },
 "nbformat": 4,
 "nbformat_minor": 5
}
